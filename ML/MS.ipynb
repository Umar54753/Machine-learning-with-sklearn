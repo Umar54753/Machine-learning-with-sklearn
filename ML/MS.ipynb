{
 "cells": [
  {
   "cell_type": "markdown",
   "metadata": {},
   "source": [
    "**This file show the code of best model selection on the basis of precision accuracy and recall and f1 score simply run this code for result**"
   ]
  },
  {
   "cell_type": "code",
   "execution_count": null,
   "metadata": {},
   "outputs": [],
   "source": [
    "import pandas as pd \n",
    "import seaborn as sns \n",
    "from sklearn.model_selection import train_test_split\n",
    "from sklearn.linear_model import LogisticRegression\n",
    "from sklearn.ensemble import RandomForestClassifier\n",
    "from sklearn.neighbors import KNeighborsClassifier\n",
    "from sklearn.svm import SVC\n",
    "from sklearn.tree import DecisionTreeClassifier\n",
    "from sklearn.metrics import accuracy_score\n",
    "\n",
    "# Load the Titanic dataset\n",
    "df = sns.load_dataset('titanic')\n",
    "\n",
    "# Prepare the features and target variable\n",
    "X = df[['pclass', 'age', 'fare', 'sex', 'parch', 'sibsp']]\n",
    "y = df['survived']\n",
    "\n",
    "# One-hot encoding for 'sex' and handling missing values\n",
    "X = pd.get_dummies(X, columns=['sex'])\n",
    "X['age'].fillna(X['age'].mean(), inplace=True)\n",
    "\n",
    "# Split the data into training and testing sets\n",
    "X_train, X_test, y_train, y_test = train_test_split(X, y, test_size=0.20, random_state=42)\n",
    "\n",
    "# Initialize models\n",
    "models = [LogisticRegression(max_iter=1000), KNeighborsClassifier(), RandomForestClassifier(), SVC(), DecisionTreeClassifier()]\n",
    "model_names = ['Logistic Regression', 'KNeighbors Classifier', 'RandomForest Classifier', 'SVC', 'Decision Tree']\n",
    "models_score = []\n",
    "\n",
    "# Train each model and evaluate its accuracy\n",
    "for name, model in zip(model_names, models):\n",
    "    model.fit(X_train, y_train)\n",
    "    y_pred = model.predict(X_test)\n",
    "    accuracy = accuracy_score(y_test, y_pred)  # Use y_test for accuracy\n",
    "    models_score.append((name, accuracy))  # Append as a tuple\n",
    "\n",
    "# Sort models by accuracy\n",
    "sorted_models = sorted(models_score, key=lambda x: x[1], reverse=True)\n",
    "\n",
    "# Print sorted accuracy scores\n",
    "for model in sorted_models:\n",
    "    print(f\"Accuracy score for {model[0]}: {model[1]:.2f}\")\n"
   ]
  },
  {
   "cell_type": "markdown",
   "metadata": {},
   "source": [
    "**RANDOM STATE IN EACH CODE REPRESENT THAT ANSWERS WILL BE SAME FOR EACH RUN TIME IN FUTURE**"
   ]
  },
  {
   "cell_type": "code",
   "execution_count": 2,
   "metadata": {},
   "outputs": [
    {
     "name": "stdout",
     "output_type": "stream",
     "text": [
      "precision score for Logistic Regression: 0.80\n",
      "precision score for RandomForest Classifier: 0.77\n",
      "precision score for SVC: 0.76\n",
      "precision score for Decision Tree: 0.73\n",
      "precision score for KNeighbors Classifier: 0.66\n"
     ]
    }
   ],
   "source": [
    "import pandas as pd \n",
    "import seaborn as sns \n",
    "from sklearn.model_selection import train_test_split\n",
    "from sklearn.linear_model import LogisticRegression\n",
    "from sklearn.ensemble import RandomForestClassifier\n",
    "from sklearn.neighbors import KNeighborsClassifier\n",
    "from sklearn.svm import SVC\n",
    "from sklearn.tree import DecisionTreeClassifier\n",
    "from sklearn.metrics import precision_score\n",
    "\n",
    "# Load the Titanic dataset\n",
    "df = sns.load_dataset('titanic')\n",
    "\n",
    "# Prepare the features and target variable\n",
    "X = df[['pclass', 'age', 'fare', 'sex', 'parch', 'sibsp']]\n",
    "y = df['survived']\n",
    "\n",
    "# One-hot encoding for 'sex' and handling missing values\n",
    "X = pd.get_dummies(X, columns=['sex'])\n",
    "X.fillna({'age': X['age'].mean()}, inplace=True)\n",
    "\n",
    "# Split the data into training and testing sets\n",
    "X_train, X_test, y_train, y_test = train_test_split(X, y, test_size=0.20, random_state=42)\n",
    "\n",
    "# Initialize models\n",
    "models = [LogisticRegression(), KNeighborsClassifier(), RandomForestClassifier(), SVC(), DecisionTreeClassifier()]\n",
    "model_names = ['Logistic Regression', 'KNeighbors Classifier', 'RandomForest Classifier', 'SVC', 'Decision Tree']\n",
    "models_score = []\n",
    "\n",
    "# Train each model and evaluate its accuracy\n",
    "for name, model in zip(model_names, models):\n",
    "    model.fit(X_train, y_train)\n",
    "    y_pred = model.predict(X_test)\n",
    "    Precision = precision_score(y_test, y_pred)  # Use y_test for accuracy\n",
    "    models_score.append((name, Precision))  # Append as a tuple\n",
    "\n",
    "# Sort models by accuracy\n",
    "sorted_models = sorted(models_score, key=lambda x: x[1], reverse=True)\n",
    "\n",
    "# Print sorted accuracy scores\n",
    "for model in sorted_models:\n",
    "    print(f\"precision score for {model[0]}: {model[1]:.2f}\")\n"
   ]
  },
  {
   "cell_type": "markdown",
   "metadata": {},
   "source": [
    "**LAMBDA IN EACH SORTED IS ONE LINER FUNCTION**"
   ]
  },
  {
   "cell_type": "code",
   "execution_count": 4,
   "metadata": {},
   "outputs": [
    {
     "name": "stdout",
     "output_type": "stream",
     "text": [
      "Recall score for RandomForest Classifier: 0.74\n",
      "Recall score for Logistic Regression: 0.72\n",
      "Recall score for Decision Tree: 0.69\n",
      "Recall score for KNeighbors Classifier: 0.54\n",
      "Recall score for SVC: 0.26\n"
     ]
    }
   ],
   "source": [
    "import pandas as pd \n",
    "import seaborn as sns \n",
    "from sklearn.model_selection import train_test_split\n",
    "from sklearn.linear_model import LogisticRegression\n",
    "from sklearn.ensemble import RandomForestClassifier\n",
    "from sklearn.neighbors import KNeighborsClassifier\n",
    "from sklearn.svm import SVC\n",
    "from sklearn.tree import DecisionTreeClassifier\n",
    "from sklearn.metrics import recall_score\n",
    "\n",
    "# Load the Titanic dataset\n",
    "df = sns.load_dataset('titanic')\n",
    "\n",
    "# Prepare the features and target variable\n",
    "X = df[['pclass', 'age', 'fare', 'sex', 'parch', 'sibsp']]\n",
    "y = df['survived']\n",
    "\n",
    "# One-hot encoding for 'sex' and handling missing values\n",
    "X = pd.get_dummies(X, columns=['sex'])\n",
    "X.fillna({'age': X['age'].mean()}, inplace=True)\n",
    "\n",
    "# Split the data into training and testing sets\n",
    "X_train, X_test, y_train, y_test = train_test_split(X, y, test_size=0.20, random_state=42)\n",
    "\n",
    "# Initialize models\n",
    "models = [LogisticRegression(max_iter=1000), KNeighborsClassifier(), RandomForestClassifier(), SVC(), DecisionTreeClassifier()]\n",
    "model_names = ['Logistic Regression', 'KNeighbors Classifier', 'RandomForest Classifier', 'SVC', 'Decision Tree']\n",
    "models_score = []\n",
    "\n",
    "# Train each model and evaluate its accuracy\n",
    "for name, model in zip(model_names, models):\n",
    "    model.fit(X_train, y_train)\n",
    "    y_pred = model.predict(X_test)\n",
    "    Recall_score = recall_score(y_test, y_pred)  # Use y_test for accuracy\n",
    "    models_score.append((name, Recall_score))  # Append as a tuple\n",
    "\n",
    "# Sort models by accuracy\n",
    "sorted_models = sorted(models_score, key=lambda x: x[1], reverse=True)\n",
    "\n",
    "# Print sorted accuracy scores\n",
    "for model in sorted_models:\n",
    "    print(f\"Recall score for {model[0]}: {model[1]:.2f}\")\n"
   ]
  },
  {
   "cell_type": "code",
   "execution_count": 5,
   "metadata": {},
   "outputs": [
    {
     "name": "stdout",
     "output_type": "stream",
     "text": [
      "F1 score for RandomForest Classifier: 0.77\n",
      "F1 score for Logistic Regression: 0.76\n",
      "F1 score for Decision Tree: 0.71\n",
      "F1 score for KNeighbors Classifier: 0.59\n",
      "F1 score for SVC: 0.38\n"
     ]
    }
   ],
   "source": [
    "import pandas as pd \n",
    "import seaborn as sns \n",
    "from sklearn.model_selection import train_test_split\n",
    "from sklearn.linear_model import LogisticRegression\n",
    "from sklearn.ensemble import RandomForestClassifier\n",
    "from sklearn.neighbors import KNeighborsClassifier\n",
    "from sklearn.svm import SVC\n",
    "from sklearn.tree import DecisionTreeClassifier\n",
    "from sklearn.metrics import f1_score\n",
    "\n",
    "# Load the Titanic dataset\n",
    "df = sns.load_dataset('titanic')\n",
    "\n",
    "# Prepare the features and target variable\n",
    "X = df[['pclass', 'age', 'fare', 'sex', 'parch', 'sibsp']]\n",
    "y = df['survived']\n",
    "\n",
    "# One-hot encoding for 'sex' and handling missing values\n",
    "X = pd.get_dummies(X, columns=['sex'])\n",
    "X.fillna({'age': X['age'].mean()}, inplace=True)\n",
    "\n",
    "# Split the data into training and testing sets\n",
    "X_train, X_test, y_train, y_test = train_test_split(X, y, test_size=0.20, random_state=42)\n",
    "\n",
    "# Initialize models\n",
    "models = [LogisticRegression(max_iter=1000), KNeighborsClassifier(), RandomForestClassifier(), SVC(), DecisionTreeClassifier()]\n",
    "model_names = ['Logistic Regression', 'KNeighbors Classifier', 'RandomForest Classifier', 'SVC', 'Decision Tree']\n",
    "models_score = []\n",
    "\n",
    "# Train each model and evaluate its accuracy\n",
    "for name, model in zip(model_names, models):\n",
    "    model.fit(X_train, y_train)\n",
    "    y_pred = model.predict(X_test)\n",
    "    F1 = f1_score(y_test, y_pred)  # Use y_test for accuracy\n",
    "    models_score.append((name, F1))  # Append as a tuple\n",
    "\n",
    "# Sort models by accuracy\n",
    "sorted_models = sorted(models_score, key=lambda x: x[1], reverse=True)\n",
    "\n",
    "# Print sorted accuracy scores\n",
    "for model in sorted_models:\n",
    "    print(f\"F1 score for {model[0]}: {model[1]:.2f}\")\n"
   ]
  },
  {
   "cell_type": "code",
   "execution_count": null,
   "metadata": {},
   "outputs": [],
   "source": [
    "models = [LogisticRegression(max_iter=1000), KNeighborsClassifier(), RandomForestClassifier(), SVC(), DecisionTreeClassifier()]\n",
    "model_names = ['Logistic Regression', 'KNeighbors Classifier', 'RandomForest Classifier', 'SVC', 'Decision Tree']\n",
    "model_score=[]\n",
    "for name,model in (model_names,models):\n",
    "    model.fit(X_train, y_train)\n",
    "    y_pred=model.predict(X_test)\n",
    "    Accuracy=accuracy_score(y_pred,y_test)\n",
    "    model_score.append((name,accuracy))\n",
    "sorted_models=sorted(Accuracy,key=lambda x:x[1],reverse=True)\n",
    "for model in sorted_models:\n",
    "    print(f\"Accuracy is {model[0]}:{model[1]:.2f}\" )"
   ]
  }
 ],
 "metadata": {
  "kernelspec": {
   "display_name": "Python 3",
   "language": "python",
   "name": "python3"
  },
  "language_info": {
   "codemirror_mode": {
    "name": "ipython",
    "version": 3
   },
   "file_extension": ".py",
   "mimetype": "text/x-python",
   "name": "python",
   "nbconvert_exporter": "python",
   "pygments_lexer": "ipython3",
   "version": "3.13.1"
  }
 },
 "nbformat": 4,
 "nbformat_minor": 2
}
